{
 "cells": [
  {
   "cell_type": "markdown",
   "metadata": {},
   "source": [
    "Importing librarys"
   ]
  },
  {
   "cell_type": "code",
   "execution_count": 1,
   "metadata": {},
   "outputs": [],
   "source": [
    "import numpy as np\n",
    "import gym\n",
    "import matplotlib.pyplot as plt"
   ]
  },
  {
   "cell_type": "markdown",
   "metadata": {},
   "source": [
    "Setting Up environment"
   ]
  },
  {
   "cell_type": "code",
   "execution_count": 4,
   "metadata": {},
   "outputs": [
    {
     "data": {
      "text/plain": [
       "(array([-0.49813324,  0.        ], dtype=float32), {})"
      ]
     },
     "execution_count": 4,
     "metadata": {},
     "output_type": "execute_result"
    }
   ],
   "source": [
    "env = gym.make('MountainCar-v0')\n",
    "env.reset()"
   ]
  },
  {
   "cell_type": "markdown",
   "metadata": {},
   "source": [
    "Env variables"
   ]
  },
  {
   "cell_type": "code",
   "execution_count": 6,
   "metadata": {},
   "outputs": [],
   "source": [
    "space =  env.observation_space\n",
    "actions = env.action_space\n",
    "EPSILON = 0.1\n",
    "NUM_ACTIONS = actions.n\n",
    "LEARNING_RATE = 0.1\n",
    "DISCOUNT_FACTOR = 0.9\n",
    "NUM_EPISODES = 1000\n"
   ]
  },
  {
   "cell_type": "markdown",
   "metadata": {},
   "source": [
    "Segmenting velocity and position "
   ]
  },
  {
   "cell_type": "code",
   "execution_count": 8,
   "metadata": {},
   "outputs": [],
   "source": [
    "position = np.linspace(space.low[0], space.high[0], 20)\n",
    "velocity = np.linspace(space.low[1], space.high[1], 20)\n",
    "\n",
    "q_values = np.zeros((len(position), len(velocity), NUM_ACTIONS))"
   ]
  },
  {
   "cell_type": "code",
   "execution_count": 7,
   "metadata": {},
   "outputs": [],
   "source": [
    "def select_action(position, velocity):\n",
    "    if np.random.random() < EPSILON:\n",
    "                action = np.random.randint(0, NUM_ACTIONS)\n",
    "            else:\n",
    "                action = np.argmax(position, velocity) \n",
    "                "
   ]
  },
  {
   "cell_type": "code",
   "execution_count": null,
   "metadata": {},
   "outputs": [],
   "source": [
    "def train():\n",
    "    state = env.reset()\n",
    "    state_position = np.digitize(state[0], position)\n",
    "    state_velocity = np.digitize(state[1], velocity)\n",
    "\n",
    "    goal = False\n",
    "\n",
    "    rewards = 0\n",
    "\n",
    "    while not goal:\n",
    "        action = select_action(state_position, state_velocity)\n",
    "        next_state, reward, goal, _ = env.step(action)\n",
    "        next_state_position = np.digitize(next_state[0], position)\n",
    "        next_state_velocity = np.digitize(next_state[1], velocity)\n",
    "        q_values[state_position][state_velocity][action] = q_values[state_position][state_velocity][action] + LEARNING_RATE * (reward + DISCOUNT_FACTOR * np.max(q_values[next_state_position][next_state_velocity]) - q_values[state_position][state_velocity][action])\n",
    "        state_position = next_state_position\n",
    "        state_velocity = next_state_velocity\n",
    "        rewards += reward"
   ]
  }
 ],
 "metadata": {
  "kernelspec": {
   "display_name": "Python 3",
   "language": "python",
   "name": "python3"
  },
  "language_info": {
   "codemirror_mode": {
    "name": "ipython",
    "version": 3
   },
   "file_extension": ".py",
   "mimetype": "text/x-python",
   "name": "python",
   "nbconvert_exporter": "python",
   "pygments_lexer": "ipython3",
   "version": "3.11.2"
  }
 },
 "nbformat": 4,
 "nbformat_minor": 2
}
