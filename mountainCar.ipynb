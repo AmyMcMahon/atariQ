{
 "cells": [
  {
   "cell_type": "markdown",
   "metadata": {},
   "source": [
    "Importing librarys"
   ]
  },
  {
   "cell_type": "code",
<<<<<<< HEAD
   "execution_count": 96,
=======
   "execution_count": 30,
>>>>>>> 28aa679cb61934f9caafbf7a9116cb4517f8333d
   "metadata": {},
   "outputs": [],
   "source": [
    "import numpy as np\n",
    "import gym\n",
    "import matplotlib.pyplot as plt"
   ]
  },
  {
   "cell_type": "markdown",
   "metadata": {},
   "source": [
    "Setting Up environment"
   ]
  },
  {
   "cell_type": "code",
<<<<<<< HEAD
   "execution_count": 97,
=======
   "execution_count": 31,
>>>>>>> 28aa679cb61934f9caafbf7a9116cb4517f8333d
   "metadata": {},
   "outputs": [
    {
     "data": {
      "text/plain": [
<<<<<<< HEAD
       "(array([-0.5806677,  0.       ], dtype=float32), {})"
      ]
     },
     "execution_count": 97,
=======
       "(array([-0.44286606,  0.        ], dtype=float32), {})"
      ]
     },
     "execution_count": 31,
>>>>>>> 28aa679cb61934f9caafbf7a9116cb4517f8333d
     "metadata": {},
     "output_type": "execute_result"
    }
   ],
   "source": [
    "env = gym.make('MountainCar-v0', render_mode=\"human\")\n",
    "observation = env.reset()\n",
    "env.reset()"
   ]
  },
  {
   "cell_type": "markdown",
   "metadata": {},
   "source": [
    "Env variables"
   ]
  },
  {
   "cell_type": "code",
<<<<<<< HEAD
   "execution_count": 98,
=======
   "execution_count": 32,
>>>>>>> 28aa679cb61934f9caafbf7a9116cb4517f8333d
   "metadata": {},
   "outputs": [],
   "source": [
    "space =  env.observation_space\n",
    "actions = env.action_space\n",
    "EPSILON = 1\n",
    "NUM_ACTIONS = actions.n\n",
    "LEARNING_RATE = 0.9\n",
    "DISCOUNT_FACTOR = 0.9\n",
    "NUM_EPISODES = 1000\n",
    "rewards_per_episode= []\n",
    "EPSILON_DECAY = 2/NUM_EPISODES\n"
   ]
  },
  {
   "cell_type": "markdown",
   "metadata": {},
   "source": [
    "Segmenting velocity and position "
   ]
  },
  {
   "cell_type": "code",
<<<<<<< HEAD
   "execution_count": 99,
=======
   "execution_count": 33,
>>>>>>> 28aa679cb61934f9caafbf7a9116cb4517f8333d
   "metadata": {},
   "outputs": [],
   "source": [
    "position = np.linspace(space.low[0], space.high[0], 20)\n",
    "velocity = np.linspace(space.low[1], space.high[1], 20)\n",
    "\n",
    "q_values = np.zeros((len(position), len(velocity), NUM_ACTIONS))"
   ]
  },
  {
   "cell_type": "code",
<<<<<<< HEAD
   "execution_count": 100,
=======
   "execution_count": 34,
>>>>>>> 28aa679cb61934f9caafbf7a9116cb4517f8333d
   "metadata": {},
   "outputs": [],
   "source": [
    "def select_action(position, velocity):\n",
    "    if np.random.random() < EPSILON:\n",
    "        action = np.random.randint(0, NUM_ACTIONS)\n",
    "    else:\n",
    "        action = np.argmax(q_values[position, velocity]) \n",
    "    \n",
    "    return action\n",
    "                "
   ]
  },
  {
   "cell_type": "code",
<<<<<<< HEAD
   "execution_count": 101,
=======
   "execution_count": 35,
>>>>>>> 28aa679cb61934f9caafbf7a9116cb4517f8333d
   "metadata": {},
   "outputs": [],
   "source": [
    "def train(EPSILON, EPSILON_DECAY):\n",
    "    state = env.reset()[0]\n",
    "    state_position = np.digitize(state[0], position)\n",
    "    state_velocity = np.digitize(state[1], velocity)\n",
    "\n",
    "    goal = False\n",
    "\n",
    "    rewards = 0\n",
    "\n",
    "    while not goal and rewards > -1000:\n",
    "        action = select_action(state_position, state_velocity)\n",
    "        next_state, reward, goal, _, _ = env.step(action)\n",
    "        next_state_position = np.digitize(next_state[0], position)\n",
    "        next_state_velocity = np.digitize(next_state[1], velocity)\n",
    "        max_q_value_next_state = np.max(q_values[next_state_position][next_state_velocity])\n",
    "        q_values[state_position][state_velocity][action] += LEARNING_RATE * (reward + DISCOUNT_FACTOR * \n",
    "                                max_q_value_next_state - q_values[state_position][state_velocity][action])\n",
    "        state_position = next_state_position\n",
    "        state_velocity = next_state_velocity\n",
    "\n",
    "        rewards += reward\n",
    "\n",
    "    rewards_per_episode.append(rewards)\n",
    "    NEW_EPSILON = max(EPSILON - EPSILON_DECAY, 0)\n",
    "    return NEW_EPSILON\n",
    "    \n",
    "\n"
   ]
  },
  {
   "cell_type": "code",
<<<<<<< HEAD
   "execution_count": 102,
   "metadata": {},
   "outputs": [
    {
     "ename": "TypeError",
     "evalue": "train() missing 1 required positional argument: 'EPSILON_DECAY'",
     "output_type": "error",
     "traceback": [
      "\u001b[1;31m---------------------------------------------------------------------------\u001b[0m",
      "\u001b[1;31mTypeError\u001b[0m                                 Traceback (most recent call last)",
      "Cell \u001b[1;32mIn[102], line 2\u001b[0m\n\u001b[0;32m      1\u001b[0m \u001b[38;5;28;01mfor\u001b[39;00m episode \u001b[38;5;129;01min\u001b[39;00m \u001b[38;5;28mrange\u001b[39m(NUM_EPISODES):\n\u001b[1;32m----> 2\u001b[0m     train(\u001b[43mtrain\u001b[49m\u001b[43m(\u001b[49m\u001b[43mEPSILON\u001b[49m\u001b[43m)\u001b[49m, EPSILON_DECAY)\n\u001b[0;32m      4\u001b[0m env\u001b[38;5;241m.\u001b[39mclose()\n",
      "\u001b[1;31mTypeError\u001b[0m: train() missing 1 required positional argument: 'EPSILON_DECAY'"
=======
   "execution_count": 36,
   "metadata": {},
   "outputs": [
    {
     "ename": "KeyboardInterrupt",
     "evalue": "",
     "output_type": "error",
     "traceback": [
      "\u001b[1;31m---------------------------------------------------------------------------\u001b[0m",
      "\u001b[1;31mKeyboardInterrupt\u001b[0m                         Traceback (most recent call last)",
      "Cell \u001b[1;32mIn[36], line 2\u001b[0m\n\u001b[0;32m      1\u001b[0m \u001b[38;5;28;01mfor\u001b[39;00m episode \u001b[38;5;129;01min\u001b[39;00m \u001b[38;5;28mrange\u001b[39m(NUM_EPISODES):\n\u001b[1;32m----> 2\u001b[0m     \u001b[43mtrain\u001b[49m\u001b[43m(\u001b[49m\u001b[43mEPSILON\u001b[49m\u001b[43m,\u001b[49m\u001b[43m \u001b[49m\u001b[43mEPSILON_DECAY\u001b[49m\u001b[43m)\u001b[49m\n\u001b[0;32m      3\u001b[0m     \u001b[38;5;28;01mif\u001b[39;00m episode \u001b[38;5;241m==\u001b[39m NUM_EPISODES \u001b[38;5;241m-\u001b[39m \u001b[38;5;241m1\u001b[39m:\n\u001b[0;32m      4\u001b[0m         \u001b[38;5;28mprint\u001b[39m(\u001b[38;5;124m\"\u001b[39m\u001b[38;5;124mHELLO\u001b[39m\u001b[38;5;124m\"\u001b[39m)\n",
      "Cell \u001b[1;32mIn[35], line 12\u001b[0m, in \u001b[0;36mtrain\u001b[1;34m(EPSILON, EPSILON_DECAY)\u001b[0m\n\u001b[0;32m     10\u001b[0m \u001b[38;5;28;01mwhile\u001b[39;00m \u001b[38;5;129;01mnot\u001b[39;00m goal \u001b[38;5;129;01mand\u001b[39;00m rewards \u001b[38;5;241m>\u001b[39m \u001b[38;5;241m-\u001b[39m\u001b[38;5;241m1000\u001b[39m:\n\u001b[0;32m     11\u001b[0m     action \u001b[38;5;241m=\u001b[39m select_action(state_position, state_velocity)\n\u001b[1;32m---> 12\u001b[0m     next_state, reward, goal, _, _ \u001b[38;5;241m=\u001b[39m \u001b[43menv\u001b[49m\u001b[38;5;241;43m.\u001b[39;49m\u001b[43mstep\u001b[49m\u001b[43m(\u001b[49m\u001b[43maction\u001b[49m\u001b[43m)\u001b[49m\n\u001b[0;32m     13\u001b[0m     next_state_position \u001b[38;5;241m=\u001b[39m np\u001b[38;5;241m.\u001b[39mdigitize(next_state[\u001b[38;5;241m0\u001b[39m], position)\n\u001b[0;32m     14\u001b[0m     next_state_velocity \u001b[38;5;241m=\u001b[39m np\u001b[38;5;241m.\u001b[39mdigitize(next_state[\u001b[38;5;241m1\u001b[39m], velocity)\n",
      "File \u001b[1;32mc:\\Users\\admcm\\AppData\\Local\\Programs\\Python\\Python311\\Lib\\site-packages\\gym\\wrappers\\time_limit.py:50\u001b[0m, in \u001b[0;36mTimeLimit.step\u001b[1;34m(self, action)\u001b[0m\n\u001b[0;32m     39\u001b[0m \u001b[38;5;28;01mdef\u001b[39;00m \u001b[38;5;21mstep\u001b[39m(\u001b[38;5;28mself\u001b[39m, action):\n\u001b[0;32m     40\u001b[0m \u001b[38;5;250m    \u001b[39m\u001b[38;5;124;03m\"\"\"Steps through the environment and if the number of steps elapsed exceeds ``max_episode_steps`` then truncate.\u001b[39;00m\n\u001b[0;32m     41\u001b[0m \n\u001b[0;32m     42\u001b[0m \u001b[38;5;124;03m    Args:\u001b[39;00m\n\u001b[1;32m   (...)\u001b[0m\n\u001b[0;32m     48\u001b[0m \n\u001b[0;32m     49\u001b[0m \u001b[38;5;124;03m    \"\"\"\u001b[39;00m\n\u001b[1;32m---> 50\u001b[0m     observation, reward, terminated, truncated, info \u001b[38;5;241m=\u001b[39m \u001b[38;5;28;43mself\u001b[39;49m\u001b[38;5;241;43m.\u001b[39;49m\u001b[43menv\u001b[49m\u001b[38;5;241;43m.\u001b[39;49m\u001b[43mstep\u001b[49m\u001b[43m(\u001b[49m\u001b[43maction\u001b[49m\u001b[43m)\u001b[49m\n\u001b[0;32m     51\u001b[0m     \u001b[38;5;28mself\u001b[39m\u001b[38;5;241m.\u001b[39m_elapsed_steps \u001b[38;5;241m+\u001b[39m\u001b[38;5;241m=\u001b[39m \u001b[38;5;241m1\u001b[39m\n\u001b[0;32m     53\u001b[0m     \u001b[38;5;28;01mif\u001b[39;00m \u001b[38;5;28mself\u001b[39m\u001b[38;5;241m.\u001b[39m_elapsed_steps \u001b[38;5;241m>\u001b[39m\u001b[38;5;241m=\u001b[39m \u001b[38;5;28mself\u001b[39m\u001b[38;5;241m.\u001b[39m_max_episode_steps:\n",
      "File \u001b[1;32mc:\\Users\\admcm\\AppData\\Local\\Programs\\Python\\Python311\\Lib\\site-packages\\gym\\wrappers\\order_enforcing.py:37\u001b[0m, in \u001b[0;36mOrderEnforcing.step\u001b[1;34m(self, action)\u001b[0m\n\u001b[0;32m     35\u001b[0m \u001b[38;5;28;01mif\u001b[39;00m \u001b[38;5;129;01mnot\u001b[39;00m \u001b[38;5;28mself\u001b[39m\u001b[38;5;241m.\u001b[39m_has_reset:\n\u001b[0;32m     36\u001b[0m     \u001b[38;5;28;01mraise\u001b[39;00m ResetNeeded(\u001b[38;5;124m\"\u001b[39m\u001b[38;5;124mCannot call env.step() before calling env.reset()\u001b[39m\u001b[38;5;124m\"\u001b[39m)\n\u001b[1;32m---> 37\u001b[0m \u001b[38;5;28;01mreturn\u001b[39;00m \u001b[38;5;28;43mself\u001b[39;49m\u001b[38;5;241;43m.\u001b[39;49m\u001b[43menv\u001b[49m\u001b[38;5;241;43m.\u001b[39;49m\u001b[43mstep\u001b[49m\u001b[43m(\u001b[49m\u001b[43maction\u001b[49m\u001b[43m)\u001b[49m\n",
      "File \u001b[1;32mc:\\Users\\admcm\\AppData\\Local\\Programs\\Python\\Python311\\Lib\\site-packages\\gym\\wrappers\\env_checker.py:39\u001b[0m, in \u001b[0;36mPassiveEnvChecker.step\u001b[1;34m(self, action)\u001b[0m\n\u001b[0;32m     37\u001b[0m     \u001b[38;5;28;01mreturn\u001b[39;00m env_step_passive_checker(\u001b[38;5;28mself\u001b[39m\u001b[38;5;241m.\u001b[39menv, action)\n\u001b[0;32m     38\u001b[0m \u001b[38;5;28;01melse\u001b[39;00m:\n\u001b[1;32m---> 39\u001b[0m     \u001b[38;5;28;01mreturn\u001b[39;00m \u001b[38;5;28;43mself\u001b[39;49m\u001b[38;5;241;43m.\u001b[39;49m\u001b[43menv\u001b[49m\u001b[38;5;241;43m.\u001b[39;49m\u001b[43mstep\u001b[49m\u001b[43m(\u001b[49m\u001b[43maction\u001b[49m\u001b[43m)\u001b[49m\n",
      "File \u001b[1;32mc:\\Users\\admcm\\AppData\\Local\\Programs\\Python\\Python311\\Lib\\site-packages\\gym\\envs\\classic_control\\mountain_car.py:147\u001b[0m, in \u001b[0;36mMountainCarEnv.step\u001b[1;34m(self, action)\u001b[0m\n\u001b[0;32m    145\u001b[0m \u001b[38;5;28mself\u001b[39m\u001b[38;5;241m.\u001b[39mstate \u001b[38;5;241m=\u001b[39m (position, velocity)\n\u001b[0;32m    146\u001b[0m \u001b[38;5;28;01mif\u001b[39;00m \u001b[38;5;28mself\u001b[39m\u001b[38;5;241m.\u001b[39mrender_mode \u001b[38;5;241m==\u001b[39m \u001b[38;5;124m\"\u001b[39m\u001b[38;5;124mhuman\u001b[39m\u001b[38;5;124m\"\u001b[39m:\n\u001b[1;32m--> 147\u001b[0m     \u001b[38;5;28;43mself\u001b[39;49m\u001b[38;5;241;43m.\u001b[39;49m\u001b[43mrender\u001b[49m\u001b[43m(\u001b[49m\u001b[43m)\u001b[49m\n\u001b[0;32m    148\u001b[0m \u001b[38;5;28;01mreturn\u001b[39;00m np\u001b[38;5;241m.\u001b[39marray(\u001b[38;5;28mself\u001b[39m\u001b[38;5;241m.\u001b[39mstate, dtype\u001b[38;5;241m=\u001b[39mnp\u001b[38;5;241m.\u001b[39mfloat32), reward, terminated, \u001b[38;5;28;01mFalse\u001b[39;00m, {}\n",
      "File \u001b[1;32mc:\\Users\\admcm\\AppData\\Local\\Programs\\Python\\Python311\\Lib\\site-packages\\gym\\envs\\classic_control\\mountain_car.py:264\u001b[0m, in \u001b[0;36mMountainCarEnv.render\u001b[1;34m(self)\u001b[0m\n\u001b[0;32m    262\u001b[0m \u001b[38;5;28;01mif\u001b[39;00m \u001b[38;5;28mself\u001b[39m\u001b[38;5;241m.\u001b[39mrender_mode \u001b[38;5;241m==\u001b[39m \u001b[38;5;124m\"\u001b[39m\u001b[38;5;124mhuman\u001b[39m\u001b[38;5;124m\"\u001b[39m:\n\u001b[0;32m    263\u001b[0m     pygame\u001b[38;5;241m.\u001b[39mevent\u001b[38;5;241m.\u001b[39mpump()\n\u001b[1;32m--> 264\u001b[0m     \u001b[38;5;28;43mself\u001b[39;49m\u001b[38;5;241;43m.\u001b[39;49m\u001b[43mclock\u001b[49m\u001b[38;5;241;43m.\u001b[39;49m\u001b[43mtick\u001b[49m\u001b[43m(\u001b[49m\u001b[38;5;28;43mself\u001b[39;49m\u001b[38;5;241;43m.\u001b[39;49m\u001b[43mmetadata\u001b[49m\u001b[43m[\u001b[49m\u001b[38;5;124;43m\"\u001b[39;49m\u001b[38;5;124;43mrender_fps\u001b[39;49m\u001b[38;5;124;43m\"\u001b[39;49m\u001b[43m]\u001b[49m\u001b[43m)\u001b[49m\n\u001b[0;32m    265\u001b[0m     pygame\u001b[38;5;241m.\u001b[39mdisplay\u001b[38;5;241m.\u001b[39mflip()\n\u001b[0;32m    267\u001b[0m \u001b[38;5;28;01melif\u001b[39;00m \u001b[38;5;28mself\u001b[39m\u001b[38;5;241m.\u001b[39mrender_mode \u001b[38;5;241m==\u001b[39m \u001b[38;5;124m\"\u001b[39m\u001b[38;5;124mrgb_array\u001b[39m\u001b[38;5;124m\"\u001b[39m:\n",
      "\u001b[1;31mKeyboardInterrupt\u001b[0m: "
     ]
    },
    {
     "ename": "",
     "evalue": "",
     "output_type": "error",
     "traceback": [
      "\u001b[1;31mThe Kernel crashed while executing code in the current cell or a previous cell. \n",
      "\u001b[1;31mPlease review the code in the cell(s) to identify a possible cause of the failure. \n",
      "\u001b[1;31mClick <a href='https://aka.ms/vscodeJupyterKernelCrash'>here</a> for more info. \n",
      "\u001b[1;31mView Jupyter <a href='command:jupyter.viewOutput'>log</a> for further details."
>>>>>>> 28aa679cb61934f9caafbf7a9116cb4517f8333d
     ]
    }
   ],
   "source": [
    "for episode in range(NUM_EPISODES):\n",
<<<<<<< HEAD
    "    EPSILON = train(EPSILON, EPSILON_DECAY)\n",
=======
    "    train(EPSILON, EPSILON_DECAY)\n",
    "    if episode == NUM_EPISODES - 1:\n",
    "        print(\"HELLO\")\n",
    "        env.render()\n",
>>>>>>> 28aa679cb61934f9caafbf7a9116cb4517f8333d
    "\n",
    "env.close()"
   ]
  },
  {
   "cell_type": "code",
   "execution_count": null,
   "metadata": {},
   "outputs": [
    {
     "data": {
      "text/plain": [
<<<<<<< HEAD
       "[<matplotlib.lines.Line2D at 0x1b3ddb5d9c0>]"
      ]
     },
     "execution_count": 88,
=======
       "[<matplotlib.lines.Line2D at 0x2a5a5b60290>]"
      ]
     },
     "execution_count": 29,
>>>>>>> 28aa679cb61934f9caafbf7a9116cb4517f8333d
     "metadata": {},
     "output_type": "execute_result"
    },
    {
     "data": {
<<<<<<< HEAD
      "image/png": "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",
=======
      "image/png": "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",
>>>>>>> 28aa679cb61934f9caafbf7a9116cb4517f8333d
      "text/plain": [
       "<Figure size 640x480 with 1 Axes>"
      ]
     },
     "metadata": {},
     "output_type": "display_data"
    }
   ],
   "source": [
    "mean_rewards = np.zeros(NUM_EPISODES)\n",
    "for t in range(NUM_EPISODES):\n",
    "    mean_rewards[t] = np.mean(rewards_per_episode[max(0, t-100):(t+1)])\n",
    "plt.plot(mean_rewards)"
   ]
  }
 ],
 "metadata": {
  "kernelspec": {
   "display_name": "Python 3",
   "language": "python",
   "name": "python3"
  },
  "language_info": {
   "codemirror_mode": {
    "name": "ipython",
    "version": 3
   },
   "file_extension": ".py",
   "mimetype": "text/x-python",
   "name": "python",
   "nbconvert_exporter": "python",
   "pygments_lexer": "ipython3",
   "version": "3.11.2"
  }
 },
 "nbformat": 4,
 "nbformat_minor": 2
}
